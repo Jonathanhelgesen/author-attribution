{
 "cells": [
  {
   "cell_type": "markdown",
   "metadata": {},
   "source": [
    "# Test for single response"
   ]
  },
  {
   "cell_type": "code",
   "execution_count": 11,
   "metadata": {},
   "outputs": [
    {
     "name": "stdout",
     "output_type": "stream",
     "text": [
      "[TextBlock(text='Anmeldelse av «The Expendables 2»\\n\\nTerningkast: 4\\n\\nI en verden hvor actionfilmer ofte havner i en kjedelig forutsigbarhet, kommer «The Expendables 2» som en frisk pust av nostalgisk muskelflesk og gammel skole-karisma. Denne oppfølgeren til den første «Expendables»-filmen fra 2010 tar alt som fungerte i originalfilmen og skrur det opp til elleve.\\n\\nRegissør Simon West har tatt tøylene og leder an et stjernespekket ensemble av actionhelter fra 80- og 90-tallet, som alle leverer solide prestasjoner. Sylvester Stallone, Jason Statham, Jet Li, Dolph Lundgren og Terry Crews er tilbake, og de får selskap av nye ansikter som Chuck Norris, Jean-Claude Van Damme og Arnold Schwarzenegger.\\n\\nHandlingen tar oss med på en vill tur gjennom Europa, der Barney Ross (Stallone) og hans team av leiesoldater blir leid inn for å utføre et oppdrag. Men da en av teammedlemmene blir drept, blir det personlig, og Barney og gjengen drar ut for å ta hevn.\\n\\nHva som følger er en nådeløs eksplosiv reise gjennom landskap fylt med store våpen, store muskler og store personligheter. Filmen er en hyllest til 80- og 90-tallets actionfilmer, og den leverer på alle fronter.\\n\\nActionsekvensene er spektakulære og velkomponerte, med et perfekt balansert samspill mellom koreografi, redigering og spesialeffekter. Scener som helikopterjakten over Donau-elven, kampene i et forlatt kasino og den episke siste konfrontasjonen er høydepunkter som virkelig får adrenalinet til å pumpe.\\n\\nMen det er ikke bare action som står i fokus. Filmen har også en god porsjon humor og selvparodi, noe som gir den et friskt og underholdende preg. Dialogene er morsomme og skarpe, og skuespillerne har tydelig det moro med å leke med sine ikoniske roller.\\n\\nSærlig er det gøy å se Schwarzenegger, Stallone og Willis spille på sine velkjente image og utveksle vittige one-liners. Scenen der de tre actionstjernene møtes for første gang er et høydepunkt i seg selv.\\n\\nTil tross for at handlingen er relativt enkel og forutsigbar, klarer filmen å holde interessen ved like gjennom sin energiske fremdrift og sine karismatiske karakterer. Regissør West forstår at dette er en film som lever og dør på sine actionsekvenser og sine stjerneskuespillere, og han leverer varen på en måte som tilfredsstiller både nostalgikere og nye fans.\\n\\nVisuelt sett er «The Expendables 2» en fryd for øyet. Kameraføringen er dynamisk og fanger actionscenene på en måte som gir deg følelsen av å være midt i kaoset. Klippingen er rask og effektiv, uten å bli for kaotisk, og musikken bidrar til å skape den rette stemningen.\\n\\nSelv om filmen ikke bryter noen nye grenser, er den en solid og underholdende actionfilm som vet hva den vil. Den er en hyllest til en svunnen tid, men klarer likevel å føles frisk og relevant.\\n\\nSkuespillerne leverer solide prestasjoner, og samspillet mellom dem er en av filmens store styrker. Stallone, Statham og resten av gjengen har kjemi og kemi som bare kan oppstå når veteraner i bransjen møtes.\\n\\nTil tross for at handlingen tidvis kan føles litt tynn og forutsigbar, klarer «The Expendables 2» å holde deg engasjert gjennom sin rene, uforskammede actionappell. Den er en fryd for actionelskere, og en nostalgisk reise tilbake til en tid da store muskler, store våpen og store personligheter var det som gjaldt.\\n\\nSamlet sett er «The Expendables 2» en vellykket oppfølger som leverer alt man forventer av en actionfilm i denne sjangeren. Den er underholdende, energisk og full av karisma - en perfekt sommerkino-opplevelse for den som ønsker seg litt gammel skole-action.', type='text')]\n"
     ]
    }
   ],
   "source": [
    "API_KEY = \"\"\n",
    "\n",
    "import anthropic\n",
    "\n",
    "client = anthropic.Anthropic(\n",
    "    # defaults to os.environ.get(\"ANTHROPIC_API_KEY\")\n",
    "    api_key=API_KEY,\n",
    ")\n",
    "\n",
    "message = client.messages.create(\n",
    "    model=\"claude-3-haiku-20240307\",\n",
    "    max_tokens=4096,\n",
    "    temperature=0.0,\n",
    "    system=\"Du er en profesjonell journalist som skriver anmeldelser av filmer og TV-serier.\",\n",
    "    messages=[\n",
    "        {\"role\": \"user\", \"content\": \"Skriv en anmeldelse av filmen «The Expendables 2» på rundt 800 ord hvor du gir terningkast 4\"}\n",
    "    ]\n",
    ")\n",
    "\n",
    "print(message.content)"
   ]
  },
  {
   "cell_type": "markdown",
   "metadata": {},
   "source": [
    "# Batch"
   ]
  },
  {
   "cell_type": "code",
   "execution_count": null,
   "metadata": {},
   "outputs": [],
   "source": [
    "import anthropic\n",
    "import pandas as pd\n",
    "import time\n",
    "\n",
    "client = anthropic.Anthropic(api_key=API_KEY)\n",
    "system_prompt = \"Du er en profesjonell journalist som skriver anmeldelser av filmer og TV-serier.\"\n",
    "\n",
    "def get_response(user_prompt):\n",
    "    message = client.messages.create(\n",
    "        model=\"claude-3-haiku-20240307\",\n",
    "        max_tokens=4000,\n",
    "        temperature=0.0,\n",
    "        system=system_prompt,\n",
    "        messages=[{\"role\": \"user\", \"content\": user_prompt}]\n",
    "    )\n",
    "    return message.content\n"
   ]
  },
  {
   "cell_type": "markdown",
   "metadata": {},
   "source": [
    "# Generate responses"
   ]
  },
  {
   "cell_type": "code",
   "execution_count": null,
   "metadata": {},
   "outputs": [],
   "source": [
    "import pandas as pd\n",
    "import time\n",
    "\n",
    "input_file = 'prompt_set_5_part_10.csv'\n",
    "output_file = 'prompt_set_5_part_10_responses.csv'\n",
    "\n",
    "df = pd.read_csv(input_file)\n",
    "responses = []\n",
    "\n",
    "for index, row in df.iterrows():\n",
    "    response = get_response(row['prompt'])\n",
    "    responses.append(response)\n",
    "    \n",
    "    if (index + 1) % 5 == 0:\n",
    "        time.sleep(60+2)\n",
    "    \n",
    "    if (index + 1) % 10 == 0:\n",
    "        print(f'Processed {index + 1} prompts')\n",
    "\n",
    "df['response'] = responses\n",
    "df_output = df[['id', 'response']]\n",
    "df_output.to_csv(output_file, index=False)"
   ]
  }
 ],
 "metadata": {
  "kernelspec": {
   "display_name": "Python 3",
   "language": "python",
   "name": "python3"
  },
  "language_info": {
   "codemirror_mode": {
    "name": "ipython",
    "version": 3
   },
   "file_extension": ".py",
   "mimetype": "text/x-python",
   "name": "python",
   "nbconvert_exporter": "python",
   "pygments_lexer": "ipython3",
   "version": "3.9.1"
  }
 },
 "nbformat": 4,
 "nbformat_minor": 2
}
