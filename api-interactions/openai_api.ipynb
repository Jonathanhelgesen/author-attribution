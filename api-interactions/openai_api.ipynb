{
 "cells": [
  {
   "cell_type": "markdown",
   "metadata": {},
   "source": [
    "# Test standard API"
   ]
  },
  {
   "cell_type": "code",
   "execution_count": 13,
   "metadata": {},
   "outputs": [
    {
     "name": "stdout",
     "output_type": "stream",
     "text": [
      "ChatCompletionMessage(content='\"The Expendables 2\" er en actionfylt film som samler en imponerende rollebesetning av actionstjerner fra 80- og 90-tallet. Med navn som Sylvester Stallone, Arnold Schwarzenegger, Bruce Willis, Jean-Claude Van Damme og Chuck Norris, er det ingen tvil om at denne filmen er fullpakket med action og eksplosjoner.\\n\\nHandlingen følger Stallones karakter, Barney Ross, og hans team av leiesoldater som blir satt på oppdrag for å hente tilbake en verdifull gjenstand fra en skurkaktig russisk general spilt av Van Damme. Filmen byr på en rekke spektakulære actionscener, inkludert intense skuddvekslinger, biljakter og eksplosjoner som vil glede fans av sjangeren.\\n\\nSelv om filmen leverer på actionfronten, mangler den dessverre substans når det gjelder historie og karakterutvikling. Dialogen er klisjéfylt og overfladisk, og karakterene blir ikke gitt mye dybde eller motivasjon. Dette gjør det vanskelig å virkelig bry seg om hva som skjer med dem gjennom filmen.\\n\\nSkuespillerne gjør en solid jobb med det de har å jobbe med, og det er tydelig at de har det gøy med å spille sine ikoniske actionroller. Van Damme gjør en overbevisende skurkerolle, og det er alltid en glede å se Schwarzenegger og Willis på skjermen sammen.\\n\\nRegissør Simon West leverer en film som er underholdende og actionfylt, men som mangler den ekstra gnisten som kunne ha gjort den til en virkelig minneverdig filmopplevelse. \"The Expendables 2\" er en film som appellerer til fans av actionsjangeren, men den når dessverre ikke helt opp til sitt fulle potensial.\\n\\nTerningkast 4.', role='assistant', function_call=None, tool_calls=None)\n"
     ]
    }
   ],
   "source": [
    "from openai import OpenAI\n",
    "\n",
    "# Set your OpenAI API key\n",
    "OPENAI_API_KEY = ''\n",
    "\n",
    "client = OpenAI(api_key=OPENAI_API_KEY)\n",
    "\n",
    "completion = client.chat.completions.create(\n",
    "  model=\"gpt-3.5-turbo-0125\",\n",
    "  temperature=0.0,\n",
    "  messages=[\n",
    "\t{\"role\": \"system\", \"content\": \"Du er en profesjonell journalist som skriver anmeldelser av filmer og TV-serier.\"},\n",
    "    {\"role\": \"user\", \"content\": \"Skriv en anmeldelse av filmen «The Expendables 2» på rundt 300 ord hvor du gir terningkast 4\"},\n",
    "\n",
    "  ]\n",
    ")\n",
    "\n",
    "print(completion.choices[0].message)"
   ]
  },
  {
   "cell_type": "markdown",
   "metadata": {},
   "source": [
    "# Using the batch API"
   ]
  },
  {
   "cell_type": "markdown",
   "metadata": {},
   "source": [
    "### Make JSON file with prompts"
   ]
  },
  {
   "cell_type": "code",
   "execution_count": 42,
   "metadata": {},
   "outputs": [],
   "source": [
    "import json\n",
    "import pandas as pd\n",
    "\n",
    "prompts_df = pd.read_csv('prompt_set_4.csv')\n",
    "\n",
    "# System prompt that will precede each user prompt\n",
    "system_prompt = {\"role\": \"system\", \"content\": \"Du er en profesjonell journalist som skriver anmeldelser av filmer og TV-serier.\"}\n",
    "\n",
    "# Prepare the .jsonl content\n",
    "jsonl_content = \"\"\n",
    "for index, row in prompts_df.iterrows():\n",
    "    request = {\n",
    "        \"custom_id\": f\"request-{row['id']}\",\n",
    "        \"method\": \"POST\",\n",
    "        \"url\": \"/v1/chat/completions\",\n",
    "        \"body\": {\n",
    "            \"model\": \"gpt-4-turbo\",\n",
    "            \"temperature\": 0.5,\n",
    "            \"messages\": [system_prompt, {\"role\": \"user\", \"content\": row['prompt']}]\n",
    "        }\n",
    "    }\n",
    "    jsonl_content += json.dumps(request) + \"\\n\"\n",
    "\n",
    "# Save to a .jsonl file\n",
    "jsonl_file_path = 'prompt_set_4_temp_0point5.jsonl'\n",
    "with open(jsonl_file_path, 'w') as f:\n",
    "    f.write(jsonl_content)\n"
   ]
  },
  {
   "cell_type": "markdown",
   "metadata": {},
   "source": [
    "### Upload JSON file"
   ]
  },
  {
   "cell_type": "code",
   "execution_count": 43,
   "metadata": {},
   "outputs": [],
   "source": [
    "from openai import OpenAI\n",
    "\n",
    "OPENAI_API_KEY = ''\n",
    "client = OpenAI(api_key=OPENAI_API_KEY)\n",
    "\n",
    "batch_input_file = client.files.create(\n",
    "  file=open(\"prompt_set_4_temp_0point5.jsonl\", \"rb\"),\n",
    "  purpose=\"batch\"\n",
    ")"
   ]
  },
  {
   "cell_type": "markdown",
   "metadata": {},
   "source": [
    "### Create batch"
   ]
  },
  {
   "cell_type": "code",
   "execution_count": 44,
   "metadata": {},
   "outputs": [
    {
     "data": {
      "text/plain": [
       "Batch(id='batch_TrrtZfrzt2brcK1hpzfTFi6W', completion_window='24h', created_at=1715265930, endpoint='/v1/chat/completions', input_file_id='file-GTz6a8pGMFIMgOoVKrxUvJJX', object='batch', status='validating', cancelled_at=None, cancelling_at=None, completed_at=None, error_file_id=None, errors=None, expired_at=None, expires_at=1715352330, failed_at=None, finalizing_at=None, in_progress_at=None, metadata={'description': 'prompt set 4 and temperature 0.5 with 4-turbo model'}, output_file_id=None, request_counts=BatchRequestCounts(completed=0, failed=0, total=0))"
      ]
     },
     "execution_count": 44,
     "metadata": {},
     "output_type": "execute_result"
    }
   ],
   "source": [
    "batch_input_file_id = batch_input_file.id\n",
    "\n",
    "client.batches.create(\n",
    "    input_file_id=batch_input_file_id,\n",
    "    endpoint=\"/v1/chat/completions\",\n",
    "    completion_window=\"24h\",\n",
    "    metadata={\n",
    "      \"description\": \"prompt set 4 and temperature 0.5 with 4-turbo model\"\n",
    "    }\n",
    ")"
   ]
  },
  {
   "cell_type": "markdown",
   "metadata": {},
   "source": [
    "### Check status of batch"
   ]
  },
  {
   "cell_type": "code",
   "execution_count": 45,
   "metadata": {},
   "outputs": [
    {
     "data": {
      "text/plain": [
       "Batch(id='batch_TrrtZfrzt2brcK1hpzfTFi6W', completion_window='24h', created_at=1715265930, endpoint='/v1/chat/completions', input_file_id='file-GTz6a8pGMFIMgOoVKrxUvJJX', object='batch', status='failed', cancelled_at=None, cancelling_at=None, completed_at=None, error_file_id=None, errors=Errors(data=[BatchError(code='duplicate_custom_id', line=853, message='The custom_id for this request is a duplicate of another request. The custom_id parameter must be unique for each request in a batch.', param='custom_id')], object='list'), expired_at=None, expires_at=1715352330, failed_at=1715265930, finalizing_at=None, in_progress_at=None, metadata={'description': 'prompt set 4 and temperature 0.5 with 4-turbo model'}, output_file_id=None, request_counts=BatchRequestCounts(completed=0, failed=0, total=0))"
      ]
     },
     "execution_count": 45,
     "metadata": {},
     "output_type": "execute_result"
    }
   ],
   "source": [
    "client.batches.retrieve(\"batch_TrrtZfrzt2brcK1hpzfTFi6W\")"
   ]
  },
  {
   "cell_type": "markdown",
   "metadata": {},
   "source": [
    "### Retrieve results"
   ]
  },
  {
   "cell_type": "code",
   "execution_count": null,
   "metadata": {},
   "outputs": [],
   "source": [
    "import json\n",
    "\n",
    "file_response = client.files.content(\"batch_TrrtZfrzt2brcK1hpzfTFi6W\")\n",
    "data = file_response.text\n",
    "\n",
    "json_data = json.loads(data)\n",
    "\n",
    "with open('prompt_set_4_temp_0point5_responses.json', 'w') as json_file:\n",
    "    json.dump(json_data, json_file, indent=4)"
   ]
  }
 ],
 "metadata": {
  "kernelspec": {
   "display_name": "Python 3",
   "language": "python",
   "name": "python3"
  },
  "language_info": {
   "codemirror_mode": {
    "name": "ipython",
    "version": 3
   },
   "file_extension": ".py",
   "mimetype": "text/x-python",
   "name": "python",
   "nbconvert_exporter": "python",
   "pygments_lexer": "ipython3",
   "version": "3.9.1"
  }
 },
 "nbformat": 4,
 "nbformat_minor": 2
}
